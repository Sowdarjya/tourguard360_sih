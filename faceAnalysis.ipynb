{
  "cells": [
    {
      "cell_type": "code",
      "execution_count": 13,
      "metadata": {
        "colab": {
          "base_uri": "https://localhost:8080/"
        },
        "id": "XWCAHSqVhE37",
        "outputId": "697ee3c0-860e-4a85-c5b8-5076fff3d4c2"
      },
      "outputs": [
        {
          "name": "stdout",
          "output_type": "stream",
          "text": [
            "Requirement already satisfied: fer in /usr/local/lib/python3.12/dist-packages (22.5.1)\n",
            "Requirement already satisfied: opencv-python-headless in /usr/local/lib/python3.12/dist-packages (4.12.0.88)\n",
            "Requirement already satisfied: tensorflow in /usr/local/lib/python3.12/dist-packages (2.19.0)\n",
            "Requirement already satisfied: scikit-learn in /usr/local/lib/python3.12/dist-packages (1.6.1)\n",
            "Requirement already satisfied: flask in /usr/local/lib/python3.12/dist-packages (3.1.2)\n",
            "Requirement already satisfied: pyngrok in /usr/local/lib/python3.12/dist-packages (7.3.0)\n",
            "Requirement already satisfied: flask-cors in /usr/local/lib/python3.12/dist-packages (6.0.1)\n",
            "Requirement already satisfied: matplotlib in /usr/local/lib/python3.12/dist-packages (from fer) (3.10.0)\n",
            "Requirement already satisfied: opencv-contrib-python in /usr/local/lib/python3.12/dist-packages (from fer) (4.12.0.88)\n",
            "Requirement already satisfied: keras>=2.0.0 in /usr/local/lib/python3.12/dist-packages (from fer) (3.10.0)\n",
            "Requirement already satisfied: pandas in /usr/local/lib/python3.12/dist-packages (from fer) (2.2.2)\n",
            "Requirement already satisfied: requests in /usr/local/lib/python3.12/dist-packages (from fer) (2.32.4)\n",
            "Requirement already satisfied: facenet-pytorch in /usr/local/lib/python3.12/dist-packages (from fer) (2.5.3)\n",
            "Requirement already satisfied: tqdm>=4.62.1 in /usr/local/lib/python3.12/dist-packages (from fer) (4.67.1)\n",
            "Requirement already satisfied: moviepy in /usr/local/lib/python3.12/dist-packages (from fer) (1.0.3)\n",
            "Requirement already satisfied: ffmpeg==1.4 in /usr/local/lib/python3.12/dist-packages (from fer) (1.4)\n",
            "Requirement already satisfied: Pillow in /usr/local/lib/python3.12/dist-packages (from fer) (11.3.0)\n",
            "Requirement already satisfied: numpy<2.3.0,>=2 in /usr/local/lib/python3.12/dist-packages (from opencv-python-headless) (2.0.2)\n",
            "Requirement already satisfied: absl-py>=1.0.0 in /usr/local/lib/python3.12/dist-packages (from tensorflow) (1.4.0)\n",
            "Requirement already satisfied: astunparse>=1.6.0 in /usr/local/lib/python3.12/dist-packages (from tensorflow) (1.6.3)\n",
            "Requirement already satisfied: flatbuffers>=24.3.25 in /usr/local/lib/python3.12/dist-packages (from tensorflow) (25.2.10)\n",
            "Requirement already satisfied: gast!=0.5.0,!=0.5.1,!=0.5.2,>=0.2.1 in /usr/local/lib/python3.12/dist-packages (from tensorflow) (0.6.0)\n",
            "Requirement already satisfied: google-pasta>=0.1.1 in /usr/local/lib/python3.12/dist-packages (from tensorflow) (0.2.0)\n",
            "Requirement already satisfied: libclang>=13.0.0 in /usr/local/lib/python3.12/dist-packages (from tensorflow) (18.1.1)\n",
            "Requirement already satisfied: opt-einsum>=2.3.2 in /usr/local/lib/python3.12/dist-packages (from tensorflow) (3.4.0)\n",
            "Requirement already satisfied: packaging in /usr/local/lib/python3.12/dist-packages (from tensorflow) (25.0)\n",
            "Requirement already satisfied: protobuf!=4.21.0,!=4.21.1,!=4.21.2,!=4.21.3,!=4.21.4,!=4.21.5,<6.0.0dev,>=3.20.3 in /usr/local/lib/python3.12/dist-packages (from tensorflow) (5.29.5)\n",
            "Requirement already satisfied: setuptools in /usr/local/lib/python3.12/dist-packages (from tensorflow) (75.2.0)\n",
            "Requirement already satisfied: six>=1.12.0 in /usr/local/lib/python3.12/dist-packages (from tensorflow) (1.17.0)\n",
            "Requirement already satisfied: termcolor>=1.1.0 in /usr/local/lib/python3.12/dist-packages (from tensorflow) (3.1.0)\n",
            "Requirement already satisfied: typing-extensions>=3.6.6 in /usr/local/lib/python3.12/dist-packages (from tensorflow) (4.15.0)\n",
            "Requirement already satisfied: wrapt>=1.11.0 in /usr/local/lib/python3.12/dist-packages (from tensorflow) (1.17.3)\n",
            "Requirement already satisfied: grpcio<2.0,>=1.24.3 in /usr/local/lib/python3.12/dist-packages (from tensorflow) (1.74.0)\n",
            "Requirement already satisfied: tensorboard~=2.19.0 in /usr/local/lib/python3.12/dist-packages (from tensorflow) (2.19.0)\n",
            "Requirement already satisfied: h5py>=3.11.0 in /usr/local/lib/python3.12/dist-packages (from tensorflow) (3.14.0)\n",
            "Requirement already satisfied: ml-dtypes<1.0.0,>=0.5.1 in /usr/local/lib/python3.12/dist-packages (from tensorflow) (0.5.3)\n",
            "Requirement already satisfied: scipy>=1.6.0 in /usr/local/lib/python3.12/dist-packages (from scikit-learn) (1.16.1)\n",
            "Requirement already satisfied: joblib>=1.2.0 in /usr/local/lib/python3.12/dist-packages (from scikit-learn) (1.5.2)\n",
            "Requirement already satisfied: threadpoolctl>=3.1.0 in /usr/local/lib/python3.12/dist-packages (from scikit-learn) (3.6.0)\n",
            "Requirement already satisfied: blinker>=1.9.0 in /usr/local/lib/python3.12/dist-packages (from flask) (1.9.0)\n",
            "Requirement already satisfied: click>=8.1.3 in /usr/local/lib/python3.12/dist-packages (from flask) (8.2.1)\n",
            "Requirement already satisfied: itsdangerous>=2.2.0 in /usr/local/lib/python3.12/dist-packages (from flask) (2.2.0)\n",
            "Requirement already satisfied: jinja2>=3.1.2 in /usr/local/lib/python3.12/dist-packages (from flask) (3.1.6)\n",
            "Requirement already satisfied: markupsafe>=2.1.1 in /usr/local/lib/python3.12/dist-packages (from flask) (3.0.2)\n",
            "Requirement already satisfied: werkzeug>=3.1.0 in /usr/local/lib/python3.12/dist-packages (from flask) (3.1.3)\n",
            "Requirement already satisfied: PyYAML>=5.1 in /usr/local/lib/python3.12/dist-packages (from pyngrok) (6.0.2)\n",
            "Requirement already satisfied: wheel<1.0,>=0.23.0 in /usr/local/lib/python3.12/dist-packages (from astunparse>=1.6.0->tensorflow) (0.45.1)\n",
            "Requirement already satisfied: rich in /usr/local/lib/python3.12/dist-packages (from keras>=2.0.0->fer) (13.9.4)\n",
            "Requirement already satisfied: namex in /usr/local/lib/python3.12/dist-packages (from keras>=2.0.0->fer) (0.1.0)\n",
            "Requirement already satisfied: optree in /usr/local/lib/python3.12/dist-packages (from keras>=2.0.0->fer) (0.17.0)\n",
            "Requirement already satisfied: charset_normalizer<4,>=2 in /usr/local/lib/python3.12/dist-packages (from requests->fer) (3.4.3)\n",
            "Requirement already satisfied: idna<4,>=2.5 in /usr/local/lib/python3.12/dist-packages (from requests->fer) (3.10)\n",
            "Requirement already satisfied: urllib3<3,>=1.21.1 in /usr/local/lib/python3.12/dist-packages (from requests->fer) (2.5.0)\n",
            "Requirement already satisfied: certifi>=2017.4.17 in /usr/local/lib/python3.12/dist-packages (from requests->fer) (2025.8.3)\n",
            "Requirement already satisfied: markdown>=2.6.8 in /usr/local/lib/python3.12/dist-packages (from tensorboard~=2.19.0->tensorflow) (3.9)\n",
            "Requirement already satisfied: tensorboard-data-server<0.8.0,>=0.7.0 in /usr/local/lib/python3.12/dist-packages (from tensorboard~=2.19.0->tensorflow) (0.7.2)\n",
            "Requirement already satisfied: torchvision in /usr/local/lib/python3.12/dist-packages (from facenet-pytorch->fer) (0.23.0+cu126)\n",
            "Requirement already satisfied: contourpy>=1.0.1 in /usr/local/lib/python3.12/dist-packages (from matplotlib->fer) (1.3.3)\n",
            "Requirement already satisfied: cycler>=0.10 in /usr/local/lib/python3.12/dist-packages (from matplotlib->fer) (0.12.1)\n",
            "Requirement already satisfied: fonttools>=4.22.0 in /usr/local/lib/python3.12/dist-packages (from matplotlib->fer) (4.59.2)\n",
            "Requirement already satisfied: kiwisolver>=1.3.1 in /usr/local/lib/python3.12/dist-packages (from matplotlib->fer) (1.4.9)\n",
            "Requirement already satisfied: pyparsing>=2.3.1 in /usr/local/lib/python3.12/dist-packages (from matplotlib->fer) (3.2.3)\n",
            "Requirement already satisfied: python-dateutil>=2.7 in /usr/local/lib/python3.12/dist-packages (from matplotlib->fer) (2.9.0.post0)\n",
            "Requirement already satisfied: decorator<5.0,>=4.0.2 in /usr/local/lib/python3.12/dist-packages (from moviepy->fer) (4.4.2)\n",
            "Requirement already satisfied: proglog<=1.0.0 in /usr/local/lib/python3.12/dist-packages (from moviepy->fer) (0.1.12)\n",
            "Requirement already satisfied: imageio<3.0,>=2.5 in /usr/local/lib/python3.12/dist-packages (from moviepy->fer) (2.37.0)\n",
            "Requirement already satisfied: imageio-ffmpeg>=0.2.0 in /usr/local/lib/python3.12/dist-packages (from moviepy->fer) (0.6.0)\n",
            "Requirement already satisfied: pytz>=2020.1 in /usr/local/lib/python3.12/dist-packages (from pandas->fer) (2025.2)\n",
            "Requirement already satisfied: tzdata>=2022.7 in /usr/local/lib/python3.12/dist-packages (from pandas->fer) (2025.2)\n",
            "Requirement already satisfied: markdown-it-py>=2.2.0 in /usr/local/lib/python3.12/dist-packages (from rich->keras>=2.0.0->fer) (4.0.0)\n",
            "Requirement already satisfied: pygments<3.0.0,>=2.13.0 in /usr/local/lib/python3.12/dist-packages (from rich->keras>=2.0.0->fer) (2.19.2)\n",
            "Requirement already satisfied: torch==2.8.0 in /usr/local/lib/python3.12/dist-packages (from torchvision->facenet-pytorch->fer) (2.8.0+cu126)\n",
            "Requirement already satisfied: filelock in /usr/local/lib/python3.12/dist-packages (from torch==2.8.0->torchvision->facenet-pytorch->fer) (3.19.1)\n",
            "Requirement already satisfied: sympy>=1.13.3 in /usr/local/lib/python3.12/dist-packages (from torch==2.8.0->torchvision->facenet-pytorch->fer) (1.13.3)\n",
            "Requirement already satisfied: networkx in /usr/local/lib/python3.12/dist-packages (from torch==2.8.0->torchvision->facenet-pytorch->fer) (3.5)\n",
            "Requirement already satisfied: fsspec in /usr/local/lib/python3.12/dist-packages (from torch==2.8.0->torchvision->facenet-pytorch->fer) (2025.3.0)\n",
            "Requirement already satisfied: nvidia-cuda-nvrtc-cu12==12.6.77 in /usr/local/lib/python3.12/dist-packages (from torch==2.8.0->torchvision->facenet-pytorch->fer) (12.6.77)\n",
            "Requirement already satisfied: nvidia-cuda-runtime-cu12==12.6.77 in /usr/local/lib/python3.12/dist-packages (from torch==2.8.0->torchvision->facenet-pytorch->fer) (12.6.77)\n",
            "Requirement already satisfied: nvidia-cuda-cupti-cu12==12.6.80 in /usr/local/lib/python3.12/dist-packages (from torch==2.8.0->torchvision->facenet-pytorch->fer) (12.6.80)\n",
            "Requirement already satisfied: nvidia-cudnn-cu12==9.10.2.21 in /usr/local/lib/python3.12/dist-packages (from torch==2.8.0->torchvision->facenet-pytorch->fer) (9.10.2.21)\n",
            "Requirement already satisfied: nvidia-cublas-cu12==12.6.4.1 in /usr/local/lib/python3.12/dist-packages (from torch==2.8.0->torchvision->facenet-pytorch->fer) (12.6.4.1)\n",
            "Requirement already satisfied: nvidia-cufft-cu12==11.3.0.4 in /usr/local/lib/python3.12/dist-packages (from torch==2.8.0->torchvision->facenet-pytorch->fer) (11.3.0.4)\n",
            "Requirement already satisfied: nvidia-curand-cu12==10.3.7.77 in /usr/local/lib/python3.12/dist-packages (from torch==2.8.0->torchvision->facenet-pytorch->fer) (10.3.7.77)\n",
            "Requirement already satisfied: nvidia-cusolver-cu12==11.7.1.2 in /usr/local/lib/python3.12/dist-packages (from torch==2.8.0->torchvision->facenet-pytorch->fer) (11.7.1.2)\n",
            "Requirement already satisfied: nvidia-cusparse-cu12==12.5.4.2 in /usr/local/lib/python3.12/dist-packages (from torch==2.8.0->torchvision->facenet-pytorch->fer) (12.5.4.2)\n",
            "Requirement already satisfied: nvidia-cusparselt-cu12==0.7.1 in /usr/local/lib/python3.12/dist-packages (from torch==2.8.0->torchvision->facenet-pytorch->fer) (0.7.1)\n",
            "Requirement already satisfied: nvidia-nccl-cu12==2.27.3 in /usr/local/lib/python3.12/dist-packages (from torch==2.8.0->torchvision->facenet-pytorch->fer) (2.27.3)\n",
            "Requirement already satisfied: nvidia-nvtx-cu12==12.6.77 in /usr/local/lib/python3.12/dist-packages (from torch==2.8.0->torchvision->facenet-pytorch->fer) (12.6.77)\n",
            "Requirement already satisfied: nvidia-nvjitlink-cu12==12.6.85 in /usr/local/lib/python3.12/dist-packages (from torch==2.8.0->torchvision->facenet-pytorch->fer) (12.6.85)\n",
            "Requirement already satisfied: nvidia-cufile-cu12==1.11.1.6 in /usr/local/lib/python3.12/dist-packages (from torch==2.8.0->torchvision->facenet-pytorch->fer) (1.11.1.6)\n",
            "Requirement already satisfied: triton==3.4.0 in /usr/local/lib/python3.12/dist-packages (from torch==2.8.0->torchvision->facenet-pytorch->fer) (3.4.0)\n",
            "Requirement already satisfied: mdurl~=0.1 in /usr/local/lib/python3.12/dist-packages (from markdown-it-py>=2.2.0->rich->keras>=2.0.0->fer) (0.1.2)\n",
            "Requirement already satisfied: mpmath<1.4,>=1.1.0 in /usr/local/lib/python3.12/dist-packages (from sympy>=1.13.3->torch==2.8.0->torchvision->facenet-pytorch->fer) (1.3.0)\n"
          ]
        }
      ],
      "source": [
        "!pip install fer opencv-python-headless tensorflow scikit-learn flask pyngrok flask-cors"
      ]
    },
    {
      "cell_type": "code",
      "execution_count": 14,
      "metadata": {
        "id": "spJewtgSgPdv"
      },
      "outputs": [],
      "source": [
        "from flask import Flask, request, jsonify\n",
        "import cv2, base64, numpy as np\n",
        "from fer import FER\n",
        "from pyngrok import ngrok\n",
        "from flask_cors import CORS"
      ]
    },
    {
      "cell_type": "code",
      "execution_count": 15,
      "metadata": {
        "colab": {
          "base_uri": "https://localhost:8080/"
        },
        "id": "YLBSYCsigcS0",
        "outputId": "b5dc1717-295d-4d23-ab54-d16374e2a675"
      },
      "outputs": [
        {
          "data": {
            "text/plain": [
              "<flask_cors.extension.CORS at 0x7a3997e3a120>"
            ]
          },
          "execution_count": 15,
          "metadata": {},
          "output_type": "execute_result"
        }
      ],
      "source": [
        "detector = FER(mtcnn=True)\n",
        "\n",
        "def extract_features(image):\n",
        "    emotions = detector.detect_emotions(image)\n",
        "    if not emotions: return None\n",
        "    emo = emotions[0]['emotions']\n",
        "    return [emo['angry'], emo['fear'], emo['sad'], emo['happy'], emo['neutral']]\n",
        "\n",
        "def classify_stress(features):\n",
        "    stress_score = features[0] + features[1] + features[2]\n",
        "    fear_score = features[1]\n",
        "    anxiety_score = features[1] + features[2] + features[4]\n",
        "    if stress_score > 0.2:\n",
        "        return \"STRESSED\"\n",
        "    elif fear_score > 0.2:\n",
        "        return \"FEARED\"\n",
        "    elif anxiety_score > 0.2:\n",
        "        return \"ANXIETY\"\n",
        "    else:\n",
        "        return \"RELAXED\"\n",
        "\n",
        "app = Flask(__name__)\n",
        "CORS(app)"
      ]
    },
    {
      "cell_type": "code",
      "execution_count": 16,
      "metadata": {
        "id": "QUFMGzcRgfXy"
      },
      "outputs": [],
      "source": [
        "@app.route(\"/detect\", methods=[\"POST\"])\n",
        "def detect():\n",
        "    data = request.json['image']\n",
        "\n",
        "    if \",\" in data:\n",
        "            data = data.split(\",\")[1]\n",
        "\n",
        "    img_data = base64.b64decode(data)\n",
        "    nparr = np.frombuffer(img_data, np.uint8)\n",
        "    img = cv2.imdecode(nparr, cv2.IMREAD_COLOR)\n",
        "\n",
        "    features = extract_features(img)\n",
        "    if not features:\n",
        "        return jsonify({\"status\": \"no_face_detected\"})\n",
        "\n",
        "    return jsonify({\"status\": classify_stress(features), \"features\": features})"
      ]
    },
    {
      "cell_type": "code",
      "execution_count": null,
      "metadata": {
        "colab": {
          "base_uri": "https://localhost:8080/"
        },
        "id": "BkBwUpT7h3ZM",
        "outputId": "fcf8b50a-5297-4af4-c4fc-01bd11d28079"
      },
      "outputs": [
        {
          "name": "stdout",
          "output_type": "stream",
          "text": [
            "Authtoken saved to configuration file: /root/.config/ngrok/ngrok.yml\n",
            "Public URL: NgrokTunnel: \"https://603ae4b56b8a.ngrok-free.app\" -> \"http://localhost:5000\"\n",
            " * Serving Flask app '__main__'\n",
            " * Debug mode: off\n"
          ]
        },
        {
          "name": "stderr",
          "output_type": "stream",
          "text": [
            "INFO:werkzeug:\u001b[31m\u001b[1mWARNING: This is a development server. Do not use it in a production deployment. Use a production WSGI server instead.\u001b[0m\n",
            " * Running on http://127.0.0.1:5000\n",
            "INFO:werkzeug:\u001b[33mPress CTRL+C to quit\u001b[0m\n",
            "INFO:werkzeug:127.0.0.1 - - [21/Sep/2025 14:52:48] \"OPTIONS /detect HTTP/1.1\" 200 -\n",
            "INFO:werkzeug:127.0.0.1 - - [21/Sep/2025 14:52:48] \"POST /detect HTTP/1.1\" 200 -\n",
            "INFO:werkzeug:127.0.0.1 - - [21/Sep/2025 14:52:58] \"OPTIONS /detect HTTP/1.1\" 200 -\n",
            "INFO:werkzeug:127.0.0.1 - - [21/Sep/2025 14:52:59] \"POST /detect HTTP/1.1\" 200 -\n",
            "INFO:werkzeug:127.0.0.1 - - [21/Sep/2025 14:53:03] \"POST /detect HTTP/1.1\" 200 -\n",
            "INFO:werkzeug:127.0.0.1 - - [21/Sep/2025 14:53:08] \"OPTIONS /detect HTTP/1.1\" 200 -\n",
            "INFO:werkzeug:127.0.0.1 - - [21/Sep/2025 14:53:09] \"POST /detect HTTP/1.1\" 200 -\n",
            "INFO:werkzeug:127.0.0.1 - - [21/Sep/2025 14:53:13] \"POST /detect HTTP/1.1\" 200 -\n",
            "INFO:werkzeug:127.0.0.1 - - [21/Sep/2025 14:53:18] \"OPTIONS /detect HTTP/1.1\" 200 -\n",
            "INFO:werkzeug:127.0.0.1 - - [21/Sep/2025 14:53:19] \"POST /detect HTTP/1.1\" 200 -\n",
            "INFO:werkzeug:127.0.0.1 - - [21/Sep/2025 14:53:23] \"POST /detect HTTP/1.1\" 200 -\n",
            "INFO:werkzeug:127.0.0.1 - - [21/Sep/2025 14:53:28] \"OPTIONS /detect HTTP/1.1\" 200 -\n",
            "INFO:werkzeug:127.0.0.1 - - [21/Sep/2025 14:53:29] \"POST /detect HTTP/1.1\" 200 -\n",
            "INFO:werkzeug:127.0.0.1 - - [21/Sep/2025 14:53:33] \"POST /detect HTTP/1.1\" 200 -\n",
            "INFO:werkzeug:127.0.0.1 - - [21/Sep/2025 14:53:38] \"OPTIONS /detect HTTP/1.1\" 200 -\n",
            "INFO:werkzeug:127.0.0.1 - - [21/Sep/2025 14:53:39] \"POST /detect HTTP/1.1\" 200 -\n",
            "INFO:werkzeug:127.0.0.1 - - [21/Sep/2025 14:53:43] \"POST /detect HTTP/1.1\" 200 -\n",
            "INFO:werkzeug:127.0.0.1 - - [21/Sep/2025 14:53:48] \"OPTIONS /detect HTTP/1.1\" 200 -\n",
            "INFO:werkzeug:127.0.0.1 - - [21/Sep/2025 14:53:49] \"POST /detect HTTP/1.1\" 200 -\n",
            "INFO:werkzeug:127.0.0.1 - - [21/Sep/2025 14:53:53] \"POST /detect HTTP/1.1\" 200 -\n",
            "INFO:werkzeug:127.0.0.1 - - [21/Sep/2025 14:53:58] \"OPTIONS /detect HTTP/1.1\" 200 -\n",
            "INFO:werkzeug:127.0.0.1 - - [21/Sep/2025 14:53:59] \"POST /detect HTTP/1.1\" 200 -\n",
            "INFO:werkzeug:127.0.0.1 - - [21/Sep/2025 14:54:03] \"POST /detect HTTP/1.1\" 200 -\n",
            "INFO:werkzeug:127.0.0.1 - - [21/Sep/2025 14:54:08] \"OPTIONS /detect HTTP/1.1\" 200 -\n",
            "INFO:werkzeug:127.0.0.1 - - [21/Sep/2025 14:54:09] \"POST /detect HTTP/1.1\" 200 -\n",
            "INFO:werkzeug:127.0.0.1 - - [21/Sep/2025 14:54:13] \"POST /detect HTTP/1.1\" 200 -\n",
            "INFO:werkzeug:127.0.0.1 - - [21/Sep/2025 14:54:18] \"OPTIONS /detect HTTP/1.1\" 200 -\n",
            "INFO:werkzeug:127.0.0.1 - - [21/Sep/2025 14:54:19] \"POST /detect HTTP/1.1\" 200 -\n",
            "INFO:werkzeug:127.0.0.1 - - [21/Sep/2025 14:54:23] \"POST /detect HTTP/1.1\" 200 -\n",
            "INFO:werkzeug:127.0.0.1 - - [21/Sep/2025 14:54:28] \"OPTIONS /detect HTTP/1.1\" 200 -\n",
            "INFO:werkzeug:127.0.0.1 - - [21/Sep/2025 14:54:29] \"POST /detect HTTP/1.1\" 200 -\n",
            "INFO:werkzeug:127.0.0.1 - - [21/Sep/2025 14:54:33] \"POST /detect HTTP/1.1\" 200 -\n",
            "INFO:werkzeug:127.0.0.1 - - [21/Sep/2025 14:54:38] \"OPTIONS /detect HTTP/1.1\" 200 -\n",
            "INFO:werkzeug:127.0.0.1 - - [21/Sep/2025 14:54:39] \"POST /detect HTTP/1.1\" 200 -\n",
            "INFO:werkzeug:127.0.0.1 - - [21/Sep/2025 14:54:43] \"POST /detect HTTP/1.1\" 200 -\n",
            "INFO:werkzeug:127.0.0.1 - - [21/Sep/2025 14:54:48] \"OPTIONS /detect HTTP/1.1\" 200 -\n",
            "INFO:werkzeug:127.0.0.1 - - [21/Sep/2025 14:54:49] \"POST /detect HTTP/1.1\" 200 -\n",
            "INFO:werkzeug:127.0.0.1 - - [21/Sep/2025 14:54:53] \"POST /detect HTTP/1.1\" 200 -\n",
            "INFO:werkzeug:127.0.0.1 - - [21/Sep/2025 14:54:58] \"OPTIONS /detect HTTP/1.1\" 200 -\n",
            "INFO:werkzeug:127.0.0.1 - - [21/Sep/2025 14:54:59] \"POST /detect HTTP/1.1\" 200 -\n",
            "INFO:werkzeug:127.0.0.1 - - [21/Sep/2025 14:55:03] \"POST /detect HTTP/1.1\" 200 -\n",
            "INFO:werkzeug:127.0.0.1 - - [21/Sep/2025 14:55:08] \"OPTIONS /detect HTTP/1.1\" 200 -\n",
            "INFO:werkzeug:127.0.0.1 - - [21/Sep/2025 14:55:09] \"POST /detect HTTP/1.1\" 200 -\n",
            "INFO:werkzeug:127.0.0.1 - - [21/Sep/2025 14:55:13] \"POST /detect HTTP/1.1\" 200 -\n",
            "INFO:werkzeug:127.0.0.1 - - [21/Sep/2025 14:55:18] \"OPTIONS /detect HTTP/1.1\" 200 -\n",
            "INFO:werkzeug:127.0.0.1 - - [21/Sep/2025 14:55:19] \"POST /detect HTTP/1.1\" 200 -\n",
            "INFO:werkzeug:127.0.0.1 - - [21/Sep/2025 14:55:24] \"OPTIONS /detect HTTP/1.1\" 200 -\n",
            "INFO:werkzeug:127.0.0.1 - - [21/Sep/2025 14:55:25] \"POST /detect HTTP/1.1\" 200 -\n",
            "INFO:werkzeug:127.0.0.1 - - [21/Sep/2025 14:55:29] \"POST /detect HTTP/1.1\" 200 -\n",
            "INFO:werkzeug:127.0.0.1 - - [21/Sep/2025 14:55:34] \"OPTIONS /detect HTTP/1.1\" 200 -\n",
            "INFO:werkzeug:127.0.0.1 - - [21/Sep/2025 14:55:35] \"POST /detect HTTP/1.1\" 200 -\n",
            "INFO:werkzeug:127.0.0.1 - - [21/Sep/2025 14:55:39] \"POST /detect HTTP/1.1\" 200 -\n",
            "INFO:werkzeug:127.0.0.1 - - [21/Sep/2025 14:55:44] \"OPTIONS /detect HTTP/1.1\" 200 -\n",
            "INFO:werkzeug:127.0.0.1 - - [21/Sep/2025 14:55:45] \"POST /detect HTTP/1.1\" 200 -\n",
            "INFO:werkzeug:127.0.0.1 - - [21/Sep/2025 14:55:49] \"POST /detect HTTP/1.1\" 200 -\n",
            "INFO:werkzeug:127.0.0.1 - - [21/Sep/2025 14:55:54] \"OPTIONS /detect HTTP/1.1\" 200 -\n",
            "INFO:werkzeug:127.0.0.1 - - [21/Sep/2025 14:55:55] \"POST /detect HTTP/1.1\" 200 -\n",
            "INFO:werkzeug:127.0.0.1 - - [21/Sep/2025 14:55:59] \"POST /detect HTTP/1.1\" 200 -\n",
            "INFO:werkzeug:127.0.0.1 - - [21/Sep/2025 14:56:04] \"OPTIONS /detect HTTP/1.1\" 200 -\n",
            "INFO:werkzeug:127.0.0.1 - - [21/Sep/2025 14:56:05] \"POST /detect HTTP/1.1\" 200 -\n",
            "INFO:werkzeug:127.0.0.1 - - [21/Sep/2025 14:56:09] \"POST /detect HTTP/1.1\" 200 -\n",
            "INFO:werkzeug:127.0.0.1 - - [21/Sep/2025 14:56:13] \"OPTIONS /detect HTTP/1.1\" 200 -\n",
            "INFO:werkzeug:127.0.0.1 - - [21/Sep/2025 14:56:14] \"POST /detect HTTP/1.1\" 200 -\n",
            "INFO:werkzeug:127.0.0.1 - - [21/Sep/2025 14:56:17] \"POST /detect HTTP/1.1\" 200 -\n",
            "INFO:werkzeug:127.0.0.1 - - [21/Sep/2025 14:56:45] \"OPTIONS /detect HTTP/1.1\" 200 -\n",
            "INFO:werkzeug:127.0.0.1 - - [21/Sep/2025 14:56:46] \"POST /detect HTTP/1.1\" 200 -\n",
            "INFO:werkzeug:127.0.0.1 - - [21/Sep/2025 14:56:57] \"OPTIONS /detect HTTP/1.1\" 200 -\n",
            "INFO:werkzeug:127.0.0.1 - - [21/Sep/2025 14:56:58] \"POST /detect HTTP/1.1\" 200 -\n",
            "INFO:werkzeug:127.0.0.1 - - [21/Sep/2025 14:57:02] \"POST /detect HTTP/1.1\" 200 -\n",
            "INFO:werkzeug:127.0.0.1 - - [21/Sep/2025 14:57:07] \"OPTIONS /detect HTTP/1.1\" 200 -\n",
            "INFO:werkzeug:127.0.0.1 - - [21/Sep/2025 14:57:08] \"POST /detect HTTP/1.1\" 200 -\n",
            "INFO:werkzeug:127.0.0.1 - - [21/Sep/2025 14:57:13] \"OPTIONS /detect HTTP/1.1\" 200 -\n",
            "INFO:werkzeug:127.0.0.1 - - [21/Sep/2025 14:57:14] \"POST /detect HTTP/1.1\" 200 -\n",
            "INFO:werkzeug:127.0.0.1 - - [21/Sep/2025 14:57:17] \"POST /detect HTTP/1.1\" 200 -\n",
            "INFO:werkzeug:127.0.0.1 - - [21/Sep/2025 14:57:22] \"OPTIONS /detect HTTP/1.1\" 200 -\n",
            "INFO:werkzeug:127.0.0.1 - - [21/Sep/2025 14:57:23] \"POST /detect HTTP/1.1\" 200 -\n",
            "INFO:werkzeug:127.0.0.1 - - [21/Sep/2025 14:57:28] \"OPTIONS /detect HTTP/1.1\" 200 -\n",
            "INFO:werkzeug:127.0.0.1 - - [21/Sep/2025 14:57:29] \"POST /detect HTTP/1.1\" 200 -\n",
            "INFO:werkzeug:127.0.0.1 - - [21/Sep/2025 14:57:33] \"POST /detect HTTP/1.1\" 200 -\n",
            "INFO:werkzeug:127.0.0.1 - - [21/Sep/2025 14:57:38] \"OPTIONS /detect HTTP/1.1\" 200 -\n",
            "INFO:werkzeug:127.0.0.1 - - [21/Sep/2025 14:57:39] \"POST /detect HTTP/1.1\" 200 -\n",
            "INFO:werkzeug:127.0.0.1 - - [21/Sep/2025 14:57:43] \"POST /detect HTTP/1.1\" 200 -\n",
            "INFO:werkzeug:127.0.0.1 - - [21/Sep/2025 14:57:48] \"OPTIONS /detect HTTP/1.1\" 200 -\n",
            "INFO:werkzeug:127.0.0.1 - - [21/Sep/2025 14:57:49] \"POST /detect HTTP/1.1\" 200 -\n",
            "INFO:werkzeug:127.0.0.1 - - [21/Sep/2025 14:57:53] \"POST /detect HTTP/1.1\" 200 -\n",
            "INFO:werkzeug:127.0.0.1 - - [21/Sep/2025 14:57:58] \"OPTIONS /detect HTTP/1.1\" 200 -\n",
            "INFO:werkzeug:127.0.0.1 - - [21/Sep/2025 14:57:59] \"POST /detect HTTP/1.1\" 200 -\n",
            "INFO:werkzeug:127.0.0.1 - - [21/Sep/2025 14:58:03] \"POST /detect HTTP/1.1\" 200 -\n",
            "INFO:werkzeug:127.0.0.1 - - [21/Sep/2025 14:58:08] \"OPTIONS /detect HTTP/1.1\" 200 -\n",
            "INFO:werkzeug:127.0.0.1 - - [21/Sep/2025 14:58:09] \"POST /detect HTTP/1.1\" 200 -\n",
            "INFO:werkzeug:127.0.0.1 - - [21/Sep/2025 14:58:13] \"POST /detect HTTP/1.1\" 200 -\n",
            "INFO:werkzeug:127.0.0.1 - - [21/Sep/2025 14:58:18] \"OPTIONS /detect HTTP/1.1\" 200 -\n",
            "INFO:werkzeug:127.0.0.1 - - [21/Sep/2025 14:58:19] \"POST /detect HTTP/1.1\" 200 -\n",
            "INFO:werkzeug:127.0.0.1 - - [21/Sep/2025 14:58:23] \"POST /detect HTTP/1.1\" 200 -\n",
            "INFO:werkzeug:127.0.0.1 - - [21/Sep/2025 14:58:27] \"OPTIONS /detect HTTP/1.1\" 200 -\n",
            "INFO:werkzeug:127.0.0.1 - - [21/Sep/2025 14:58:28] \"POST /detect HTTP/1.1\" 200 -\n",
            "INFO:werkzeug:127.0.0.1 - - [21/Sep/2025 14:58:32] \"POST /detect HTTP/1.1\" 200 -\n",
            "INFO:werkzeug:127.0.0.1 - - [21/Sep/2025 14:58:37] \"OPTIONS /detect HTTP/1.1\" 200 -\n",
            "INFO:werkzeug:127.0.0.1 - - [21/Sep/2025 14:58:38] \"POST /detect HTTP/1.1\" 200 -\n",
            "INFO:werkzeug:127.0.0.1 - - [21/Sep/2025 14:59:11] \"OPTIONS /detect HTTP/1.1\" 200 -\n",
            "INFO:werkzeug:127.0.0.1 - - [21/Sep/2025 14:59:12] \"POST /detect HTTP/1.1\" 200 -\n",
            "INFO:werkzeug:127.0.0.1 - - [21/Sep/2025 14:59:18] \"OPTIONS /detect HTTP/1.1\" 200 -\n",
            "INFO:werkzeug:127.0.0.1 - - [21/Sep/2025 14:59:18] \"POST /detect HTTP/1.1\" 200 -\n",
            "INFO:werkzeug:127.0.0.1 - - [21/Sep/2025 14:59:22] \"POST /detect HTTP/1.1\" 200 -\n"
          ]
        }
      ],
      "source": [
        "!pkill ngrok\n",
        "!ngrok config add-authtoken <Add your ngrok auth token here>\n",
        "\n",
        "public_url = ngrok.connect(5000)\n",
        "print(\"Public URL:\", public_url)\n",
        "\n",
        "app.run(port=5000)"
      ]
    },
    {
      "cell_type": "code",
      "execution_count": 17,
      "metadata": {
        "id": "JzE173tshR8_"
      },
      "outputs": [],
      "source": []
    }
  ],
  "metadata": {
    "accelerator": "GPU",
    "colab": {
      "gpuType": "T4",
      "provenance": []
    },
    "kernelspec": {
      "display_name": "Python 3",
      "name": "python3"
    },
    "language_info": {
      "name": "python"
    }
  },
  "nbformat": 4,
  "nbformat_minor": 0
}
